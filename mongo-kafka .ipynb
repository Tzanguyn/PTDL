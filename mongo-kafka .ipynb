{
 "cells": [
  {
   "cell_type": "code",
   "execution_count": 1,
   "metadata": {},
   "outputs": [
    {
     "name": "stderr",
     "output_type": "stream",
     "text": [
      "c:\\Users\\tram2\\AppData\\Local\\Programs\\Python\\Python312\\Lib\\site-packages\\pyspark\\sql\\context.py:113: FutureWarning: Deprecated in 3.0.0. Use SparkSession.builder.getOrCreate() instead.\n",
      "  warnings.warn(\n"
     ]
    }
   ],
   "source": [
    "import pyspark\n",
    "from pyspark import SparkContext\n",
    "from pyspark.sql import SparkSession\n",
    "from pyspark.sql import functions as F\n",
    "from pyspark.sql import SQLContext\n",
    "from pyspark import SparkConf\n",
    "from pyspark.sql.window import Window\n",
    "import pyodbc\n",
    "\n",
    "conf = SparkConf() \\\n",
    "    .set(\"spark.jars.packages\",\n",
    "        \"org.apache.spark:spark-sql-kafka-0-10_2.12:3.1.2,org.mongodb.spark:mongo-spark-connector_2.12:3.0.1\") \\\n",
    "    .setMaster(\"local[*]\") \\\n",
    "    .setAppName(\"ReadMongoDB\")\n",
    "\n",
    "\n",
    "sc = SparkContext(conf=conf)\n",
    "sqlC = SQLContext(sc)\n",
    "\n",
    "mongo_ip = \"mongodb://localhost:27017/rugs.\"\n",
    "rug = sqlC.read.format(\"com.mongodb.spark.sql.DefaultSource\").option(\"uri\", mongo_ip +\"rugs_collection\").load()\n"
   ]
  },
  {
   "cell_type": "code",
   "execution_count": 2,
   "metadata": {},
   "outputs": [
    {
     "name": "stdout",
     "output_type": "stream",
     "text": [
      "+----------------+--------------------+--------------------+---------+-------+--------------------+-----------+--------------------+-------+-------------+--------------------+------+--------------------+\n",
      "|Cleaning_Process|            Material|                Name|Old_Price| Origin|             Pattern|Pile_height|     Product_Reviews|   Save|Special_Price|                Type|Weight|                 _id|\n",
      "+----------------+--------------------+--------------------+---------+-------+--------------------+-----------+--------------------+-------+-------------+--------------------+------+--------------------+\n",
      "|   Easy to clean|           Polyester|Cleo 013-0016 619...|    223.2|Belgium|            Abstract|       25.0|                 N/A|Save 24|       169.08|              Modern|  2900|{6708ecdbc59a34b2...|\n",
      "|   Easy to clean|       Polypropylene|Nova NV10 Antique...|     59.0| Turkey|              Floral|        9.0|Excellent distres...|Save 33|         39.6|         Traditional|  2250|{6708ece0c59a34b2...|\n",
      "|   Easy to clean|Polyester , Polyp...|Aurora AU17 Linea...|     89.0| Turkey|            Abstract|        8.0|Amazing quality a...|Save 41|         52.8|              Modern|  2250|{6708ece4c59a34b2...|\n",
      "|   Easy to clean|       Polypropylene|Galleria 063 0529...|    100.8|Belgium|            Abstract|       11.0|Looks perfect in ...|Save 24|        76.12|              Modern|  2774|{6708ece8c59a34b2...|\n",
      "|   Easy to clean|       Polypropylene|My Lux Washable S...|     35.0|     UK|               Plain|       NULL|                 N/A|Save 23|         27.0|Modern , Plain , ...|  NULL|{6708ececc59a34b2...|\n",
      "|   Easy to clean|       Polypropylene|Checked Flatweave...|    21.33|  Egypt|Bordered , Chequered|       NULL|I have used the r...|Save 32|         14.5|              Modern|  1744|{6708ececc59a34b2...|\n",
      "|   Easy to clean|       Polypropylene|Scandi Berber G25...|    89.99|   NULL|           Geometric|       45.0|                 N/A|Save 40|        54.21|Modern , Shaggy ,...|  2000|{6708ecedc59a34b2...|\n",
      "|   Easy to clean|             Acrylic|Think Rugs Polar ...|    49.99|   NULL|               Plain|       60.0|The lush texture ...|Save 31|        34.72|Handmade , Plain ...|  2100|{6708ecedc59a34b2...|\n",
      "|   Easy to clean|Polyester , Polyp...|Aurora AU02 Cloud...|     89.0| Turkey|Abstract , Optica...|        8.0|It was amazing ru...|Save 41|         52.8|              Modern|  2250|{6708ecedc59a34b2...|\n",
      "|   Easy to clean|       Polypropylene|Think Rugs Boho 8...|    89.99|   NULL|           Chequered|       40.0|Affordable, conte...|Save 40|        53.55|Kilim , Modern , ...|  2100|{6708ecedc59a34b2...|\n",
      "|   Easy to clean|       Polypropylene|Isla Cream Plain ...|    19.63|  Egypt|               Plain|       45.0|Elegant looking r...|Save 14|        16.79|Modern , Plain , ...|  1920|{6708ecefc59a34b2...|\n",
      "|   Easy to clean|       Polypropylene|Mehari 023 0067 2...|     76.8|Belgium|            Abstract|       25.0|Absolutely gorgeo...|Save 24|         58.3|              Modern|  3197|{6708ecf0c59a34b2...|\n",
      "|   Easy to clean|Polyester , Recyc...|Mad Men Griff 841...|    175.0|Belgium|            Abstract|        3.0|                 N/A|Save 10|        157.5|              Modern|  1500|{6708ecf0c59a34b2...|\n",
      "|   Easy to clean|       Polypropylene|Checked Flatweave...|    21.33|  Egypt|Bordered , Chequered|       NULL|Perfect... fast d...|Save 32|         14.5|              Modern|  1744|{6708ecf0c59a34b2...|\n",
      "|   Easy to clean|           Polyester|Cleo 013-0007 517...|    223.2|Belgium|            Abstract|       25.0|                 N/A|Save 24|       169.08|              Modern|  2900|{6708ecf1c59a34b2...|\n",
      "|   Easy to clean|           Polyester|Cleo 013-0007 722...|    223.2|Belgium|            Abstract|       25.0|                 N/A|Save 24|       169.08|              Modern|  2900|{6708ecf1c59a34b2...|\n",
      "|   Easy to clean|                Wool|Shensi Navy Tradi...|     55.0|  India|              Floral|       25.0|                 N/A|Save 23|        42.56|Handmade , Tradit...|  2500|{6708ecf2c59a34b2...|\n",
      "|   Easy to clean|                Wool|Asiatic Dotty Nav...|    349.0|  India|              Dotted|      917.0|                 N/A|Save 43|       199.92|              Modern|  NULL|{6708ecf3c59a34b2...|\n",
      "|   Easy to clean|             Acrylic|Think Rugs Polar ...|    49.99|   NULL|               Plain|       60.0|Good selection, p...|Save 31|        34.72|Handmade , Plain ...|  2100|{6708ecf3c59a34b2...|\n",
      "|   Easy to clean|       Polypropylene|Think Rugs Brookl...|    80.99|   NULL|           Geometric|       10.0|Low-maintenance, ...|Save 11|        71.99|   Handmade , Modern|  2000|{6708ecf4c59a34b2...|\n",
      "+----------------+--------------------+--------------------+---------+-------+--------------------+-----------+--------------------+-------+-------------+--------------------+------+--------------------+\n",
      "only showing top 20 rows\n",
      "\n"
     ]
    }
   ],
   "source": [
    "rug.show()"
   ]
  },
  {
   "cell_type": "code",
   "execution_count": 3,
   "metadata": {},
   "outputs": [
    {
     "name": "stdout",
     "output_type": "stream",
     "text": [
      "+----------------+--------------------+--------------------+---------+-------+--------+-----------+--------------------+-------+-------------+--------------------+------+--------------------+\n",
      "|Cleaning_Process|            Material|                Name|Old_Price| Origin| Pattern|Pile_height|     Product_Reviews|   Save|Special_Price|                Type|Weight|                 _id|\n",
      "+----------------+--------------------+--------------------+---------+-------+--------+-----------+--------------------+-------+-------------+--------------------+------+--------------------+\n",
      "|   Easy to clean|           Polyester|Cleo 013-0016 619...|    223.2|Belgium|Abstract|       25.0|                 N/A|Save 24|       169.08|              Modern|  2900|{6708ecdbc59a34b2...|\n",
      "|   Easy to clean|       Polypropylene|Nova NV10 Antique...|     59.0| Turkey|  Floral|        9.0|Excellent distres...|Save 33|         39.6|         Traditional|  2250|{6708ece0c59a34b2...|\n",
      "|   Easy to clean|Polyester , Polyp...|Aurora AU17 Linea...|     89.0| Turkey|Abstract|        8.0|Amazing quality a...|Save 41|         52.8|              Modern|  2250|{6708ece4c59a34b2...|\n",
      "|   Easy to clean|       Polypropylene|Galleria 063 0529...|    100.8|Belgium|Abstract|       11.0|Looks perfect in ...|Save 24|        76.12|              Modern|  2774|{6708ece8c59a34b2...|\n",
      "|   Easy to clean|       Polypropylene|My Lux Washable S...|     35.0|     UK|   Plain|       NULL|                 N/A|Save 23|         27.0|Modern , Plain , ...|  NULL|{6708ececc59a34b2...|\n",
      "+----------------+--------------------+--------------------+---------+-------+--------+-----------+--------------------+-------+-------------+--------------------+------+--------------------+\n",
      "only showing top 5 rows\n",
      "\n",
      "+----------------+--------------------+--------------------+---------+-------+--------+-----------+--------------------+-------+-------------+--------------------+------+--------------------+\n",
      "|Cleaning_Process|            Material|                Name|Old_Price| Origin| Pattern|Pile_height|     Product_Reviews|   Save|Special_Price|                Type|Weight|                 _id|\n",
      "+----------------+--------------------+--------------------+---------+-------+--------+-----------+--------------------+-------+-------------+--------------------+------+--------------------+\n",
      "|   Easy to clean|           Polyester|Cleo 013-0016 619...|    223.2|Belgium|Abstract|       25.0|                 N/A|Save 24|       169.08|              Modern|  2900|{6708ecdbc59a34b2...|\n",
      "|   Easy to clean|       Polypropylene|Nova NV10 Antique...|     59.0| Turkey|  Floral|        9.0|Excellent distres...|Save 33|         39.6|         Traditional|  2250|{6708ece0c59a34b2...|\n",
      "|   Easy to clean|Polyester , Polyp...|Aurora AU17 Linea...|     89.0| Turkey|Abstract|        8.0|Amazing quality a...|Save 41|         52.8|              Modern|  2250|{6708ece4c59a34b2...|\n",
      "|   Easy to clean|       Polypropylene|Galleria 063 0529...|    100.8|Belgium|Abstract|       11.0|Looks perfect in ...|Save 24|        76.12|              Modern|  2774|{6708ece8c59a34b2...|\n",
      "|   Easy to clean|       Polypropylene|My Lux Washable S...|     35.0|     UK|   Plain|        0.0|                 N/A|Save 23|         27.0|Modern , Plain , ...|     0|{6708ececc59a34b2...|\n",
      "+----------------+--------------------+--------------------+---------+-------+--------+-----------+--------------------+-------+-------------+--------------------+------+--------------------+\n",
      "only showing top 5 rows\n",
      "\n",
      "root\n",
      " |-- Cleaning_Process: string (nullable = false)\n",
      " |-- Material: string (nullable = false)\n",
      " |-- Name: string (nullable = false)\n",
      " |-- Old_Price: double (nullable = false)\n",
      " |-- Origin: string (nullable = false)\n",
      " |-- Pattern: string (nullable = false)\n",
      " |-- Pile_height: double (nullable = false)\n",
      " |-- Product_Reviews: string (nullable = false)\n",
      " |-- Save: string (nullable = false)\n",
      " |-- Special_Price: double (nullable = false)\n",
      " |-- Type: string (nullable = false)\n",
      " |-- Weight: integer (nullable = true)\n",
      " |-- _id: struct (nullable = true)\n",
      " |    |-- oid: string (nullable = true)\n",
      "\n"
     ]
    }
   ],
   "source": [
    "\n",
    "\n",
    "kafka_bootstrap_servers = \"localhost:9092\"\n",
    "topic_rugs = \"rug\"\n",
    "\n",
    "def write_to_kafka(df, topic):\n",
    "    # Hiển thị trước 5 dòng dữ liệu để kiểm tra\n",
    "    df.show(5)\n",
    "    \n",
    "    # Các cột cần xử lý NaN\n",
    "    columns_to_fill = ['Cleaning_Process', 'Material', 'Name', 'Old_Price', 'Origin', \n",
    "                    'Pattern', 'Pile_height', 'Product_Reviews', 'Save', \n",
    "                    'Special_Price', 'Type', 'Weight']\n",
    "    \n",
    "    # Giá trị mặc định cho các cột\n",
    "    fill_values = {\n",
    "        'Cleaning_Process': 'Unknown',\n",
    "        'Material': 'Unknown',\n",
    "        'Name': 'Unnamed',\n",
    "        'Old_Price': 0.0,\n",
    "        'Origin': 'Unknown',\n",
    "        'Pattern': 'Unknown',\n",
    "        'Pile_height': 0.0,\n",
    "        'Product_Reviews': 'No reviews',\n",
    "        'Save': 'No discount',\n",
    "        'Special_Price': 0.0,\n",
    "        'Type': 'Uncategorized',\n",
    "        'Weight': 0.0\n",
    "    }\n",
    "    \n",
    "    # Điền giá trị mặc định cho các cột thiếu\n",
    "    df = df.fillna({col: fill_values.get(col, None) for col in columns_to_fill if col in df.columns})\n",
    "    \n",
    "    # Hiển thị dữ liệu đã được xử lý NaN\n",
    "    df.show(5)\n",
    "    \n",
    "    # In schema của dataframe\n",
    "    df.printSchema()\n",
    "    \n",
    "    # Thêm cột `_id` nếu chưa có và chuyển thành kiểu chuỗi\n",
    "    if \"_id\" not in df.columns:\n",
    "        df = df.withColumn(\"_id\", F.monotonically_increasing_id())\n",
    "    df = df.withColumn(\"_id\", F.col(\"_id\").cast(\"string\"))\n",
    "    \n",
    "    # Chuyển đổi các cột thành định dạng Kafka key-value\n",
    "    df = df.selectExpr(\"CAST(_id AS STRING) AS key\", \"to_json(struct(*)) AS value\")\n",
    "    \n",
    "    # Ghi dữ liệu vào Kafka\n",
    "    df.write \\\n",
    "        .format(\"kafka\") \\\n",
    "        .option(\"kafka.bootstrap.servers\", kafka_bootstrap_servers) \\\n",
    "        .option(\"topic\", topic) \\\n",
    "        .option(\"checkpointLocation\", \"/tmp/kafka_checkpoint\") \\\n",
    "        .save()\n",
    "\n",
    "# Gọi hàm với dataframe và topic\n",
    "write_to_kafka(rug, topic_rugs)\n"
   ]
  }
 ],
 "metadata": {
  "kernelspec": {
   "display_name": "Python 3",
   "language": "python",
   "name": "python3"
  },
  "language_info": {
   "codemirror_mode": {
    "name": "ipython",
    "version": 3
   },
   "file_extension": ".py",
   "mimetype": "text/x-python",
   "name": "python",
   "nbconvert_exporter": "python",
   "pygments_lexer": "ipython3",
   "version": "3.12.2"
  }
 },
 "nbformat": 4,
 "nbformat_minor": 2
}
