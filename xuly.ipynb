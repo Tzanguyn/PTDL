{
 "cells": [
  {
   "cell_type": "code",
   "execution_count": 1,
   "metadata": {},
   "outputs": [],
   "source": [
    "import pyspark\n",
    "from pyspark import SparkContext\n",
    "from pyspark.sql import SparkSession\n",
    "from pyspark.sql import functions as F\n",
    "from pyspark.sql import SQLContext\n",
    "from pyspark import SparkConf\n",
    "from pyspark.sql.functions import regexp_replace\n",
    "import pymongo\n",
    "import pandas as pd"
   ]
  },
  {
   "cell_type": "code",
   "execution_count": 2,
   "metadata": {},
   "outputs": [
    {
     "name": "stdout",
     "output_type": "stream",
     "text": [
      "PySpark version: 3.5.3\n"
     ]
    }
   ],
   "source": [
    "# In phiên bản của PySpark\n",
    "print(\"PySpark version:\", pyspark.__version__)"
   ]
  },
  {
   "cell_type": "code",
   "execution_count": 3,
   "metadata": {},
   "outputs": [],
   "source": [
    "# Tạo đối tượng cấu hình SparkConf\n",
    "conf= pyspark.SparkConf().set(\"spark.jars.packages\", \"org.mongodb.spark:mongo-spark-connector_2.12:3.0.1,org.postgresql:postgresql:42.7.4\")\\\n",
    ".setMaster(\"local[*]\").setAppName(\"ReadMongoDB\")\\\n",
    ".setAll([(\"spark.driver.memory\",\"1g\"),(\"spark.executor.memory\",\"1g\")])\n",
    "\n",
    "# Dừng SparkContext hiện tại nếu có\n",
    "if SparkContext._active_spark_context:\n",
    "    SparkContext._active_spark_context.stop()\n",
    "\n",
    "# Tạo SparkContext mới với cấu hình\n",
    "sc = SparkContext(conf=conf)"
   ]
  },
  {
   "cell_type": "code",
   "execution_count": 4,
   "metadata": {},
   "outputs": [
    {
     "name": "stderr",
     "output_type": "stream",
     "text": [
      "c:\\Users\\tram2\\AppData\\Local\\Programs\\Python\\Python310\\lib\\site-packages\\pyspark\\sql\\context.py:113: FutureWarning: Deprecated in 3.0.0. Use SparkSession.builder.getOrCreate() instead.\n",
      "  warnings.warn(\n"
     ]
    }
   ],
   "source": [
    "sqlC = SQLContext(sc)"
   ]
  },
  {
   "cell_type": "code",
   "execution_count": 5,
   "metadata": {},
   "outputs": [],
   "source": [
    "mongo_ip = \"mongodb://localhost:27017/rugs.\""
   ]
  },
  {
   "cell_type": "code",
   "execution_count": 6,
   "metadata": {},
   "outputs": [],
   "source": [
    "rug = sqlC.read.format(\"com.mongodb.spark.sql.DefaultSource\").option(\"uri\", mongo_ip +\"rugs_collection\").load()"
   ]
  },
  {
   "cell_type": "code",
   "execution_count": 7,
   "metadata": {},
   "outputs": [
    {
     "name": "stdout",
     "output_type": "stream",
     "text": [
      "+----------------+--------------------+--------------------+---------+-------+--------------------+-----------+--------------------+-------+-------------+--------------------+------+--------------------+\n",
      "|Cleaning_Process|            Material|                Name|Old_Price| Origin|             Pattern|Pile_height|     Product_Reviews|   Save|Special_Price|                Type|Weight|                 _id|\n",
      "+----------------+--------------------+--------------------+---------+-------+--------------------+-----------+--------------------+-------+-------------+--------------------+------+--------------------+\n",
      "|   Easy to clean|           Polyester|Cleo 013-0016 619...|    223.2|Belgium|            Abstract|       25.0|                 N/A|Save 24|       169.08|              Modern|  2900|{6708ecdbc59a34b2...|\n",
      "|   Easy to clean|       Polypropylene|Nova NV10 Antique...|     59.0| Turkey|              Floral|        9.0|Excellent distres...|Save 33|         39.6|         Traditional|  2250|{6708ece0c59a34b2...|\n",
      "|   Easy to clean|Polyester , Polyp...|Aurora AU17 Linea...|     89.0| Turkey|            Abstract|        8.0|Amazing quality a...|Save 41|         52.8|              Modern|  2250|{6708ece4c59a34b2...|\n",
      "|   Easy to clean|       Polypropylene|Galleria 063 0529...|    100.8|Belgium|            Abstract|       11.0|Looks perfect in ...|Save 24|        76.12|              Modern|  2774|{6708ece8c59a34b2...|\n",
      "|   Easy to clean|       Polypropylene|My Lux Washable S...|     35.0|     UK|               Plain|       NULL|                 N/A|Save 23|         27.0|Modern , Plain , ...|  NULL|{6708ececc59a34b2...|\n",
      "|   Easy to clean|       Polypropylene|Checked Flatweave...|    21.33|  Egypt|Bordered , Chequered|       NULL|I have used the r...|Save 32|         14.5|              Modern|  1744|{6708ececc59a34b2...|\n",
      "|   Easy to clean|       Polypropylene|Scandi Berber G25...|    89.99|   NULL|           Geometric|       45.0|                 N/A|Save 40|        54.21|Modern , Shaggy ,...|  2000|{6708ecedc59a34b2...|\n",
      "|   Easy to clean|             Acrylic|Think Rugs Polar ...|    49.99|   NULL|               Plain|       60.0|The lush texture ...|Save 31|        34.72|Handmade , Plain ...|  2100|{6708ecedc59a34b2...|\n",
      "|   Easy to clean|Polyester , Polyp...|Aurora AU02 Cloud...|     89.0| Turkey|Abstract , Optica...|        8.0|It was amazing ru...|Save 41|         52.8|              Modern|  2250|{6708ecedc59a34b2...|\n",
      "|   Easy to clean|       Polypropylene|Think Rugs Boho 8...|    89.99|   NULL|           Chequered|       40.0|Affordable, conte...|Save 40|        53.55|Kilim , Modern , ...|  2100|{6708ecedc59a34b2...|\n",
      "|   Easy to clean|       Polypropylene|Isla Cream Plain ...|    19.63|  Egypt|               Plain|       45.0|Elegant looking r...|Save 14|        16.79|Modern , Plain , ...|  1920|{6708ecefc59a34b2...|\n",
      "|   Easy to clean|       Polypropylene|Mehari 023 0067 2...|     76.8|Belgium|            Abstract|       25.0|Absolutely gorgeo...|Save 24|         58.3|              Modern|  3197|{6708ecf0c59a34b2...|\n",
      "|   Easy to clean|Polyester , Recyc...|Mad Men Griff 841...|    175.0|Belgium|            Abstract|        3.0|                 N/A|Save 10|        157.5|              Modern|  1500|{6708ecf0c59a34b2...|\n",
      "|   Easy to clean|       Polypropylene|Checked Flatweave...|    21.33|  Egypt|Bordered , Chequered|       NULL|Perfect... fast d...|Save 32|         14.5|              Modern|  1744|{6708ecf0c59a34b2...|\n",
      "|   Easy to clean|           Polyester|Cleo 013-0007 517...|    223.2|Belgium|            Abstract|       25.0|                 N/A|Save 24|       169.08|              Modern|  2900|{6708ecf1c59a34b2...|\n",
      "|   Easy to clean|           Polyester|Cleo 013-0007 722...|    223.2|Belgium|            Abstract|       25.0|                 N/A|Save 24|       169.08|              Modern|  2900|{6708ecf1c59a34b2...|\n",
      "|   Easy to clean|                Wool|Shensi Navy Tradi...|     55.0|  India|              Floral|       25.0|                 N/A|Save 23|        42.56|Handmade , Tradit...|  2500|{6708ecf2c59a34b2...|\n",
      "|   Easy to clean|                Wool|Asiatic Dotty Nav...|    349.0|  India|              Dotted|      917.0|                 N/A|Save 43|       199.92|              Modern|  NULL|{6708ecf3c59a34b2...|\n",
      "|   Easy to clean|             Acrylic|Think Rugs Polar ...|    49.99|   NULL|               Plain|       60.0|Good selection, p...|Save 31|        34.72|Handmade , Plain ...|  2100|{6708ecf3c59a34b2...|\n",
      "|   Easy to clean|       Polypropylene|Think Rugs Brookl...|    80.99|   NULL|           Geometric|       10.0|Low-maintenance, ...|Save 11|        71.99|   Handmade , Modern|  2000|{6708ecf4c59a34b2...|\n",
      "+----------------+--------------------+--------------------+---------+-------+--------------------+-----------+--------------------+-------+-------------+--------------------+------+--------------------+\n",
      "only showing top 20 rows\n",
      "\n"
     ]
    }
   ],
   "source": [
    "rug.show()"
   ]
  },
  {
   "cell_type": "code",
   "execution_count": 8,
   "metadata": {},
   "outputs": [
    {
     "name": "stdout",
     "output_type": "stream",
     "text": [
      "root\n",
      " |-- Cleaning_Process: string (nullable = true)\n",
      " |-- Material: string (nullable = true)\n",
      " |-- Name: string (nullable = true)\n",
      " |-- Old_Price: double (nullable = true)\n",
      " |-- Origin: string (nullable = true)\n",
      " |-- Pattern: string (nullable = true)\n",
      " |-- Pile_height: double (nullable = true)\n",
      " |-- Product_Reviews: string (nullable = true)\n",
      " |-- Save: string (nullable = true)\n",
      " |-- Special_Price: double (nullable = true)\n",
      " |-- Type: string (nullable = true)\n",
      " |-- Weight: integer (nullable = true)\n",
      " |-- _id: struct (nullable = true)\n",
      " |    |-- oid: string (nullable = true)\n",
      "\n"
     ]
    }
   ],
   "source": [
    "rug.printSchema()"
   ]
  },
  {
   "cell_type": "code",
   "execution_count": 9,
   "metadata": {},
   "outputs": [],
   "source": [
    "#Xử lý dữ liệu rỗng \n",
    "rug_cleand=rug.filter(\n",
    "    F.col('Name').isNotNull() & \n",
    "    F.col('Old_Price').isNotNull() & \n",
    "    F.col('Special_Price').isNotNull() & \n",
    "    F.col('Save').isNotNull() & \n",
    "    F.col('Material').isNotNull() & \n",
    "    F.col('Cleaning_Process').isNotNull() & \n",
    "    F.col('Pattern').isNotNull() & \n",
    "    F.col('Pile_height').isNotNull() & \n",
    "    F.col('Weight').isNotNull() &\n",
    "    F.col('Origin').isNotNull() &\n",
    "    F.col('Type').isNotNull() &\n",
    "    F.col('Product_Reviews').isNotNull()\n",
    ")\n"
   ]
  },
  {
   "cell_type": "code",
   "execution_count": 10,
   "metadata": {},
   "outputs": [
    {
     "name": "stdout",
     "output_type": "stream",
     "text": [
      "+--------------------+--------------------+--------------------+---------+-------+--------------------+-----------+--------------------+-------+-------------+--------------------+------+--------------------+\n",
      "|    Cleaning_Process|            Material|                Name|Old_Price| Origin|             Pattern|Pile_height|     Product_Reviews|   Save|Special_Price|                Type|Weight|                 _id|\n",
      "+--------------------+--------------------+--------------------+---------+-------+--------------------+-----------+--------------------+-------+-------------+--------------------+------+--------------------+\n",
      "|       Easy to clean|           Polyester|Cleo 013-0016 619...|    223.2|Belgium|            Abstract|       25.0|                 N/A|Save 24|       169.08|              Modern|  2900|{6708ecdbc59a34b2...|\n",
      "|       Easy to clean|       Polypropylene|Nova NV10 Antique...|     59.0| Turkey|              Floral|        9.0|Excellent distres...|Save 33|         39.6|         Traditional|  2250|{6708ece0c59a34b2...|\n",
      "|       Easy to clean|Polyester , Polyp...|Aurora AU17 Linea...|     89.0| Turkey|            Abstract|        8.0|Amazing quality a...|Save 41|         52.8|              Modern|  2250|{6708ece4c59a34b2...|\n",
      "|       Easy to clean|       Polypropylene|Galleria 063 0529...|    100.8|Belgium|            Abstract|       11.0|Looks perfect in ...|Save 24|        76.12|              Modern|  2774|{6708ece8c59a34b2...|\n",
      "|       Easy to clean|Polyester , Polyp...|Aurora AU02 Cloud...|     89.0| Turkey|Abstract , Optica...|        8.0|It was amazing ru...|Save 41|         52.8|              Modern|  2250|{6708ecedc59a34b2...|\n",
      "|       Easy to clean|       Polypropylene|Isla Cream Plain ...|    19.63|  Egypt|               Plain|       45.0|Elegant looking r...|Save 14|        16.79|Modern , Plain , ...|  1920|{6708ecefc59a34b2...|\n",
      "|       Easy to clean|       Polypropylene|Mehari 023 0067 2...|     76.8|Belgium|            Abstract|       25.0|Absolutely gorgeo...|Save 24|         58.3|              Modern|  3197|{6708ecf0c59a34b2...|\n",
      "|       Easy to clean|Polyester , Recyc...|Mad Men Griff 841...|    175.0|Belgium|            Abstract|        3.0|                 N/A|Save 10|        157.5|              Modern|  1500|{6708ecf0c59a34b2...|\n",
      "|       Easy to clean|           Polyester|Cleo 013-0007 517...|    223.2|Belgium|            Abstract|       25.0|                 N/A|Save 24|       169.08|              Modern|  2900|{6708ecf1c59a34b2...|\n",
      "|       Easy to clean|           Polyester|Cleo 013-0007 722...|    223.2|Belgium|            Abstract|       25.0|                 N/A|Save 24|       169.08|              Modern|  2900|{6708ecf1c59a34b2...|\n",
      "|       Easy to clean|                Wool|Shensi Navy Tradi...|     55.0|  India|              Floral|       25.0|                 N/A|Save 23|        42.56|Handmade , Tradit...|  2500|{6708ecf2c59a34b2...|\n",
      "|       Easy to clean|       Polypropylene|Nova NV22 Abstrac...|     59.0| Turkey|            Abstract|        9.0|Good communicatio...|Save 33|         39.6|              Modern|  2250|{6708ecf5c59a34b2...|\n",
      "|       Easy to clean|Polyester , Polyp...|Aurora AU01 Dune ...|     89.0| Turkey|Abstract , Optica...|        8.0|The rug I chose i...|Save 30|        62.49|              Modern|  2250|{6708ecf9c59a34b2...|\n",
      "|       Easy to clean|           Polyester|Cleo 013-0025 619...|    105.6|Belgium|            Abstract|       25.0|                 N/A|Save 24|        80.42|              Modern|  2900|{6708ecf9c59a34b2...|\n",
      "|       Easy to clean|           Polyester|Cleo 013-0025 517...|    223.2|Belgium|            Abstract|       25.0|                 N/A|Save 24|       169.08|              Modern|  2900|{6708ecfcc59a34b2...|\n",
      "|       Easy to clean|           Polyester|Cleo 013-0025 722...|    223.2|Belgium|            Abstract|       25.0|                 N/A|Save 24|       169.08|              Modern|  2900|{6708ecfdc59a34b2...|\n",
      "|       Easy to clean|           Polyester|Cleo 013-0036 517...|    223.2|Belgium|            Abstract|       25.0|                 N/A|Save 24|       169.08|              Modern|  2900|{6708ecfec59a34b2...|\n",
      "|       Easy to clean|           Polyester|Cleo 013-0020 619...|    223.2|Belgium|            Abstract|       25.0|                 N/A|Save 24|       169.08|              Modern|  2900|{6708ecffc59a34b2...|\n",
      "|Professional Clea...|  Cotton , Polyester|Mad Men Griff 855...|    175.0|Belgium|            Abstract|        3.0|                 N/A|Save 10|        157.5|  Luxurious , Modern|  1500|{6708ed04c59a34b2...|\n",
      "|       Easy to clean|                Wool|Carter Green Wool...|     93.9|  India|             Striped|       10.0|Great selection a...|Save 20|        75.12|Handmade , Modern...|  3214|{6708ed05c59a34b2...|\n",
      "+--------------------+--------------------+--------------------+---------+-------+--------------------+-----------+--------------------+-------+-------------+--------------------+------+--------------------+\n",
      "only showing top 20 rows\n",
      "\n"
     ]
    }
   ],
   "source": [
    "rug_cleand.show()"
   ]
  },
  {
   "cell_type": "code",
   "execution_count": 11,
   "metadata": {},
   "outputs": [
    {
     "name": "stdout",
     "output_type": "stream",
     "text": [
      "+--------------------+--------------------+--------------------+---------+-------+--------------------+-----------+--------------------+-------+-------------+--------------------+------+--------------------+\n",
      "|    Cleaning_Process|            Material|                Name|Old_Price| Origin|             Pattern|Pile_height|     Product_Reviews|   Save|Special_Price|                Type|Weight|                 _id|\n",
      "+--------------------+--------------------+--------------------+---------+-------+--------------------+-----------+--------------------+-------+-------------+--------------------+------+--------------------+\n",
      "|       Easy to clean|           Polyester|Cleo 013-0016 619...|    223.2|Belgium|            Abstract|       25.0|                 N/A|Save 24|       169.08|              Modern|  2900|{6708ecdbc59a34b2...|\n",
      "|       Easy to clean|       Polypropylene|Nova NV10 Antique...|     59.0| Turkey|              Floral|        9.0|Excellent distres...|Save 33|         39.6|         Traditional|  2250|{6708ece0c59a34b2...|\n",
      "|       Easy to clean|Polyester , Polyp...|Aurora AU17 Linea...|     89.0| Turkey|            Abstract|        8.0|Amazing quality a...|Save 41|         52.8|              Modern|  2250|{6708ece4c59a34b2...|\n",
      "|       Easy to clean|       Polypropylene|Galleria 063 0529...|    100.8|Belgium|            Abstract|       11.0|Looks perfect in ...|Save 24|        76.12|              Modern|  2774|{6708ece8c59a34b2...|\n",
      "|       Easy to clean|Polyester , Polyp...|Aurora AU02 Cloud...|     89.0| Turkey|Abstract , Optica...|        8.0|It was amazing ru...|Save 41|         52.8|              Modern|  2250|{6708ecedc59a34b2...|\n",
      "|       Easy to clean|       Polypropylene|Isla Cream Plain ...|    19.63|  Egypt|               Plain|       45.0|Elegant looking r...|Save 14|        16.79|Modern , Plain , ...|  1920|{6708ecefc59a34b2...|\n",
      "|       Easy to clean|       Polypropylene|Mehari 023 0067 2...|     76.8|Belgium|            Abstract|       25.0|Absolutely gorgeo...|Save 24|         58.3|              Modern|  3197|{6708ecf0c59a34b2...|\n",
      "|       Easy to clean|Polyester , Recyc...|Mad Men Griff 841...|    175.0|Belgium|            Abstract|        3.0|                 N/A|Save 10|        157.5|              Modern|  1500|{6708ecf0c59a34b2...|\n",
      "|       Easy to clean|           Polyester|Cleo 013-0007 517...|    223.2|Belgium|            Abstract|       25.0|                 N/A|Save 24|       169.08|              Modern|  2900|{6708ecf1c59a34b2...|\n",
      "|       Easy to clean|           Polyester|Cleo 013-0007 722...|    223.2|Belgium|            Abstract|       25.0|                 N/A|Save 24|       169.08|              Modern|  2900|{6708ecf1c59a34b2...|\n",
      "|       Easy to clean|                Wool|Shensi Navy Tradi...|     55.0|  India|              Floral|       25.0|                 N/A|Save 23|        42.56|Handmade , Tradit...|  2500|{6708ecf2c59a34b2...|\n",
      "|       Easy to clean|       Polypropylene|Nova NV22 Abstrac...|     59.0| Turkey|            Abstract|        9.0|Good communicatio...|Save 33|         39.6|              Modern|  2250|{6708ecf5c59a34b2...|\n",
      "|       Easy to clean|Polyester , Polyp...|Aurora AU01 Dune ...|     89.0| Turkey|Abstract , Optica...|        8.0|The rug I chose i...|Save 30|        62.49|              Modern|  2250|{6708ecf9c59a34b2...|\n",
      "|       Easy to clean|           Polyester|Cleo 013-0025 619...|    105.6|Belgium|            Abstract|       25.0|                 N/A|Save 24|        80.42|              Modern|  2900|{6708ecf9c59a34b2...|\n",
      "|       Easy to clean|           Polyester|Cleo 013-0025 517...|    223.2|Belgium|            Abstract|       25.0|                 N/A|Save 24|       169.08|              Modern|  2900|{6708ecfcc59a34b2...|\n",
      "|       Easy to clean|           Polyester|Cleo 013-0025 722...|    223.2|Belgium|            Abstract|       25.0|                 N/A|Save 24|       169.08|              Modern|  2900|{6708ecfdc59a34b2...|\n",
      "|       Easy to clean|           Polyester|Cleo 013-0036 517...|    223.2|Belgium|            Abstract|       25.0|                 N/A|Save 24|       169.08|              Modern|  2900|{6708ecfec59a34b2...|\n",
      "|       Easy to clean|           Polyester|Cleo 013-0020 619...|    223.2|Belgium|            Abstract|       25.0|                 N/A|Save 24|       169.08|              Modern|  2900|{6708ecffc59a34b2...|\n",
      "|Professional Clea...|  Cotton , Polyester|Mad Men Griff 855...|    175.0|Belgium|            Abstract|        3.0|                 N/A|Save 10|        157.5|  Luxurious , Modern|  1500|{6708ed04c59a34b2...|\n",
      "|       Easy to clean|                Wool|Carter Green Wool...|     93.9|  India|             Striped|       10.0|Great selection a...|Save 20|        75.12|Handmade , Modern...|  3214|{6708ed05c59a34b2...|\n",
      "+--------------------+--------------------+--------------------+---------+-------+--------------------+-----------+--------------------+-------+-------------+--------------------+------+--------------------+\n",
      "only showing top 20 rows\n",
      "\n"
     ]
    }
   ],
   "source": [
    "rug_cleand.show()"
   ]
  },
  {
   "cell_type": "code",
   "execution_count": 12,
   "metadata": {},
   "outputs": [],
   "source": [
    "rug_cleand = rug.na.replace(\"N/A\", \"Unknown\").filter(\n",
    "    F.col('Name').isNotNull() & \n",
    "    F.col('Old_Price').isNotNull() & \n",
    "    F.col('Special_Price').isNotNull() & \n",
    "    F.col('Save').isNotNull() & \n",
    "    F.col('Material').isNotNull() & \n",
    "    F.col('Cleaning_Process').isNotNull() & \n",
    "    F.col('Pattern').isNotNull() & \n",
    "    F.col('Pile_height').isNotNull() & \n",
    "    F.col('Weight').isNotNull() &\n",
    "    F.col('Origin').isNotNull() &\n",
    "    F.col('Type').isNotNull() &\n",
    "    F.col('Product_Reviews').isNotNull()\n",
    ")\n"
   ]
  },
  {
   "cell_type": "code",
   "execution_count": 13,
   "metadata": {},
   "outputs": [
    {
     "name": "stdout",
     "output_type": "stream",
     "text": [
      "+--------------------+--------------------+--------------------+---------+-------+--------------------+-----------+--------------------+-------+-------------+--------------------+------+--------------------+\n",
      "|    Cleaning_Process|            Material|                Name|Old_Price| Origin|             Pattern|Pile_height|     Product_Reviews|   Save|Special_Price|                Type|Weight|                 _id|\n",
      "+--------------------+--------------------+--------------------+---------+-------+--------------------+-----------+--------------------+-------+-------------+--------------------+------+--------------------+\n",
      "|       Easy to clean|           Polyester|Cleo 013-0016 619...|    223.2|Belgium|            Abstract|       25.0|             Unknown|Save 24|       169.08|              Modern|  2900|{6708ecdbc59a34b2...|\n",
      "|       Easy to clean|       Polypropylene|Nova NV10 Antique...|     59.0| Turkey|              Floral|        9.0|Excellent distres...|Save 33|         39.6|         Traditional|  2250|{6708ece0c59a34b2...|\n",
      "|       Easy to clean|Polyester , Polyp...|Aurora AU17 Linea...|     89.0| Turkey|            Abstract|        8.0|Amazing quality a...|Save 41|         52.8|              Modern|  2250|{6708ece4c59a34b2...|\n",
      "|       Easy to clean|       Polypropylene|Galleria 063 0529...|    100.8|Belgium|            Abstract|       11.0|Looks perfect in ...|Save 24|        76.12|              Modern|  2774|{6708ece8c59a34b2...|\n",
      "|       Easy to clean|Polyester , Polyp...|Aurora AU02 Cloud...|     89.0| Turkey|Abstract , Optica...|        8.0|It was amazing ru...|Save 41|         52.8|              Modern|  2250|{6708ecedc59a34b2...|\n",
      "|       Easy to clean|       Polypropylene|Isla Cream Plain ...|    19.63|  Egypt|               Plain|       45.0|Elegant looking r...|Save 14|        16.79|Modern , Plain , ...|  1920|{6708ecefc59a34b2...|\n",
      "|       Easy to clean|       Polypropylene|Mehari 023 0067 2...|     76.8|Belgium|            Abstract|       25.0|Absolutely gorgeo...|Save 24|         58.3|              Modern|  3197|{6708ecf0c59a34b2...|\n",
      "|       Easy to clean|Polyester , Recyc...|Mad Men Griff 841...|    175.0|Belgium|            Abstract|        3.0|             Unknown|Save 10|        157.5|              Modern|  1500|{6708ecf0c59a34b2...|\n",
      "|       Easy to clean|           Polyester|Cleo 013-0007 517...|    223.2|Belgium|            Abstract|       25.0|             Unknown|Save 24|       169.08|              Modern|  2900|{6708ecf1c59a34b2...|\n",
      "|       Easy to clean|           Polyester|Cleo 013-0007 722...|    223.2|Belgium|            Abstract|       25.0|             Unknown|Save 24|       169.08|              Modern|  2900|{6708ecf1c59a34b2...|\n",
      "|       Easy to clean|                Wool|Shensi Navy Tradi...|     55.0|  India|              Floral|       25.0|             Unknown|Save 23|        42.56|Handmade , Tradit...|  2500|{6708ecf2c59a34b2...|\n",
      "|       Easy to clean|       Polypropylene|Nova NV22 Abstrac...|     59.0| Turkey|            Abstract|        9.0|Good communicatio...|Save 33|         39.6|              Modern|  2250|{6708ecf5c59a34b2...|\n",
      "|       Easy to clean|Polyester , Polyp...|Aurora AU01 Dune ...|     89.0| Turkey|Abstract , Optica...|        8.0|The rug I chose i...|Save 30|        62.49|              Modern|  2250|{6708ecf9c59a34b2...|\n",
      "|       Easy to clean|           Polyester|Cleo 013-0025 619...|    105.6|Belgium|            Abstract|       25.0|             Unknown|Save 24|        80.42|              Modern|  2900|{6708ecf9c59a34b2...|\n",
      "|       Easy to clean|           Polyester|Cleo 013-0025 517...|    223.2|Belgium|            Abstract|       25.0|             Unknown|Save 24|       169.08|              Modern|  2900|{6708ecfcc59a34b2...|\n",
      "|       Easy to clean|           Polyester|Cleo 013-0025 722...|    223.2|Belgium|            Abstract|       25.0|             Unknown|Save 24|       169.08|              Modern|  2900|{6708ecfdc59a34b2...|\n",
      "|       Easy to clean|           Polyester|Cleo 013-0036 517...|    223.2|Belgium|            Abstract|       25.0|             Unknown|Save 24|       169.08|              Modern|  2900|{6708ecfec59a34b2...|\n",
      "|       Easy to clean|           Polyester|Cleo 013-0020 619...|    223.2|Belgium|            Abstract|       25.0|             Unknown|Save 24|       169.08|              Modern|  2900|{6708ecffc59a34b2...|\n",
      "|Professional Clea...|  Cotton , Polyester|Mad Men Griff 855...|    175.0|Belgium|            Abstract|        3.0|             Unknown|Save 10|        157.5|  Luxurious , Modern|  1500|{6708ed04c59a34b2...|\n",
      "|       Easy to clean|                Wool|Carter Green Wool...|     93.9|  India|             Striped|       10.0|Great selection a...|Save 20|        75.12|Handmade , Modern...|  3214|{6708ed05c59a34b2...|\n",
      "+--------------------+--------------------+--------------------+---------+-------+--------------------+-----------+--------------------+-------+-------------+--------------------+------+--------------------+\n",
      "only showing top 20 rows\n",
      "\n"
     ]
    }
   ],
   "source": [
    "rug_cleand.show()"
   ]
  },
  {
   "cell_type": "code",
   "execution_count": 14,
   "metadata": {},
   "outputs": [],
   "source": [
    "rug_cleand = rug_cleand.withColumn('Save', regexp_replace('Save', 'Save ', ''))\n",
    "\n"
   ]
  },
  {
   "cell_type": "code",
   "execution_count": 15,
   "metadata": {},
   "outputs": [
    {
     "name": "stdout",
     "output_type": "stream",
     "text": [
      "+--------------------+--------------------+--------------------+---------+-------+--------------------+-----------+--------------------+----+-------------+--------------------+------+--------------------+\n",
      "|    Cleaning_Process|            Material|                Name|Old_Price| Origin|             Pattern|Pile_height|     Product_Reviews|Save|Special_Price|                Type|Weight|                 _id|\n",
      "+--------------------+--------------------+--------------------+---------+-------+--------------------+-----------+--------------------+----+-------------+--------------------+------+--------------------+\n",
      "|       Easy to clean|           Polyester|Cleo 013-0016 619...|    223.2|Belgium|            Abstract|       25.0|             Unknown|  24|       169.08|              Modern|  2900|{6708ecdbc59a34b2...|\n",
      "|       Easy to clean|       Polypropylene|Nova NV10 Antique...|     59.0| Turkey|              Floral|        9.0|Excellent distres...|  33|         39.6|         Traditional|  2250|{6708ece0c59a34b2...|\n",
      "|       Easy to clean|Polyester , Polyp...|Aurora AU17 Linea...|     89.0| Turkey|            Abstract|        8.0|Amazing quality a...|  41|         52.8|              Modern|  2250|{6708ece4c59a34b2...|\n",
      "|       Easy to clean|       Polypropylene|Galleria 063 0529...|    100.8|Belgium|            Abstract|       11.0|Looks perfect in ...|  24|        76.12|              Modern|  2774|{6708ece8c59a34b2...|\n",
      "|       Easy to clean|Polyester , Polyp...|Aurora AU02 Cloud...|     89.0| Turkey|Abstract , Optica...|        8.0|It was amazing ru...|  41|         52.8|              Modern|  2250|{6708ecedc59a34b2...|\n",
      "|       Easy to clean|       Polypropylene|Isla Cream Plain ...|    19.63|  Egypt|               Plain|       45.0|Elegant looking r...|  14|        16.79|Modern , Plain , ...|  1920|{6708ecefc59a34b2...|\n",
      "|       Easy to clean|       Polypropylene|Mehari 023 0067 2...|     76.8|Belgium|            Abstract|       25.0|Absolutely gorgeo...|  24|         58.3|              Modern|  3197|{6708ecf0c59a34b2...|\n",
      "|       Easy to clean|Polyester , Recyc...|Mad Men Griff 841...|    175.0|Belgium|            Abstract|        3.0|             Unknown|  10|        157.5|              Modern|  1500|{6708ecf0c59a34b2...|\n",
      "|       Easy to clean|           Polyester|Cleo 013-0007 517...|    223.2|Belgium|            Abstract|       25.0|             Unknown|  24|       169.08|              Modern|  2900|{6708ecf1c59a34b2...|\n",
      "|       Easy to clean|           Polyester|Cleo 013-0007 722...|    223.2|Belgium|            Abstract|       25.0|             Unknown|  24|       169.08|              Modern|  2900|{6708ecf1c59a34b2...|\n",
      "|       Easy to clean|                Wool|Shensi Navy Tradi...|     55.0|  India|              Floral|       25.0|             Unknown|  23|        42.56|Handmade , Tradit...|  2500|{6708ecf2c59a34b2...|\n",
      "|       Easy to clean|       Polypropylene|Nova NV22 Abstrac...|     59.0| Turkey|            Abstract|        9.0|Good communicatio...|  33|         39.6|              Modern|  2250|{6708ecf5c59a34b2...|\n",
      "|       Easy to clean|Polyester , Polyp...|Aurora AU01 Dune ...|     89.0| Turkey|Abstract , Optica...|        8.0|The rug I chose i...|  30|        62.49|              Modern|  2250|{6708ecf9c59a34b2...|\n",
      "|       Easy to clean|           Polyester|Cleo 013-0025 619...|    105.6|Belgium|            Abstract|       25.0|             Unknown|  24|        80.42|              Modern|  2900|{6708ecf9c59a34b2...|\n",
      "|       Easy to clean|           Polyester|Cleo 013-0025 517...|    223.2|Belgium|            Abstract|       25.0|             Unknown|  24|       169.08|              Modern|  2900|{6708ecfcc59a34b2...|\n",
      "|       Easy to clean|           Polyester|Cleo 013-0025 722...|    223.2|Belgium|            Abstract|       25.0|             Unknown|  24|       169.08|              Modern|  2900|{6708ecfdc59a34b2...|\n",
      "|       Easy to clean|           Polyester|Cleo 013-0036 517...|    223.2|Belgium|            Abstract|       25.0|             Unknown|  24|       169.08|              Modern|  2900|{6708ecfec59a34b2...|\n",
      "|       Easy to clean|           Polyester|Cleo 013-0020 619...|    223.2|Belgium|            Abstract|       25.0|             Unknown|  24|       169.08|              Modern|  2900|{6708ecffc59a34b2...|\n",
      "|Professional Clea...|  Cotton , Polyester|Mad Men Griff 855...|    175.0|Belgium|            Abstract|        3.0|             Unknown|  10|        157.5|  Luxurious , Modern|  1500|{6708ed04c59a34b2...|\n",
      "|       Easy to clean|                Wool|Carter Green Wool...|     93.9|  India|             Striped|       10.0|Great selection a...|  20|        75.12|Handmade , Modern...|  3214|{6708ed05c59a34b2...|\n",
      "+--------------------+--------------------+--------------------+---------+-------+--------------------+-----------+--------------------+----+-------------+--------------------+------+--------------------+\n",
      "only showing top 20 rows\n",
      "\n"
     ]
    }
   ],
   "source": [
    "rug_cleand.show()"
   ]
  },
  {
   "cell_type": "code",
   "execution_count": 16,
   "metadata": {},
   "outputs": [],
   "source": [
    "rug_cleand = rug.withColumn('Old_Price', F.col('Old_Price').cast('float')) \\\n",
    "                .withColumn('Pile_height', F.col('Pile_height').cast('float')) \\\n",
    "                .withColumn('Special_Price', F.col('Special_Price').cast('float'))\n"
   ]
  },
  {
   "cell_type": "code",
   "execution_count": 17,
   "metadata": {},
   "outputs": [],
   "source": [
    "rug_cleand = rug_cleand.drop(\"_id\")"
   ]
  },
  {
   "cell_type": "code",
   "execution_count": 18,
   "metadata": {},
   "outputs": [
    {
     "name": "stdout",
     "output_type": "stream",
     "text": [
      "+----------------+--------------------+--------------------+---------+-------+--------------------+-----------+--------------------+-------+-------------+--------------------+------+\n",
      "|Cleaning_Process|            Material|                Name|Old_Price| Origin|             Pattern|Pile_height|     Product_Reviews|   Save|Special_Price|                Type|Weight|\n",
      "+----------------+--------------------+--------------------+---------+-------+--------------------+-----------+--------------------+-------+-------------+--------------------+------+\n",
      "|   Easy to clean|           Polyester|Cleo 013-0016 619...|    223.2|Belgium|            Abstract|       25.0|                 N/A|Save 24|       169.08|              Modern|  2900|\n",
      "|   Easy to clean|       Polypropylene|Nova NV10 Antique...|     59.0| Turkey|              Floral|        9.0|Excellent distres...|Save 33|         39.6|         Traditional|  2250|\n",
      "|   Easy to clean|Polyester , Polyp...|Aurora AU17 Linea...|     89.0| Turkey|            Abstract|        8.0|Amazing quality a...|Save 41|         52.8|              Modern|  2250|\n",
      "|   Easy to clean|       Polypropylene|Galleria 063 0529...|    100.8|Belgium|            Abstract|       11.0|Looks perfect in ...|Save 24|        76.12|              Modern|  2774|\n",
      "|   Easy to clean|       Polypropylene|My Lux Washable S...|     35.0|     UK|               Plain|       NULL|                 N/A|Save 23|         27.0|Modern , Plain , ...|  NULL|\n",
      "|   Easy to clean|       Polypropylene|Checked Flatweave...|    21.33|  Egypt|Bordered , Chequered|       NULL|I have used the r...|Save 32|         14.5|              Modern|  1744|\n",
      "|   Easy to clean|       Polypropylene|Scandi Berber G25...|    89.99|   NULL|           Geometric|       45.0|                 N/A|Save 40|        54.21|Modern , Shaggy ,...|  2000|\n",
      "|   Easy to clean|             Acrylic|Think Rugs Polar ...|    49.99|   NULL|               Plain|       60.0|The lush texture ...|Save 31|        34.72|Handmade , Plain ...|  2100|\n",
      "|   Easy to clean|Polyester , Polyp...|Aurora AU02 Cloud...|     89.0| Turkey|Abstract , Optica...|        8.0|It was amazing ru...|Save 41|         52.8|              Modern|  2250|\n",
      "|   Easy to clean|       Polypropylene|Think Rugs Boho 8...|    89.99|   NULL|           Chequered|       40.0|Affordable, conte...|Save 40|        53.55|Kilim , Modern , ...|  2100|\n",
      "|   Easy to clean|       Polypropylene|Isla Cream Plain ...|    19.63|  Egypt|               Plain|       45.0|Elegant looking r...|Save 14|        16.79|Modern , Plain , ...|  1920|\n",
      "|   Easy to clean|       Polypropylene|Mehari 023 0067 2...|     76.8|Belgium|            Abstract|       25.0|Absolutely gorgeo...|Save 24|         58.3|              Modern|  3197|\n",
      "|   Easy to clean|Polyester , Recyc...|Mad Men Griff 841...|    175.0|Belgium|            Abstract|        3.0|                 N/A|Save 10|        157.5|              Modern|  1500|\n",
      "|   Easy to clean|       Polypropylene|Checked Flatweave...|    21.33|  Egypt|Bordered , Chequered|       NULL|Perfect... fast d...|Save 32|         14.5|              Modern|  1744|\n",
      "|   Easy to clean|           Polyester|Cleo 013-0007 517...|    223.2|Belgium|            Abstract|       25.0|                 N/A|Save 24|       169.08|              Modern|  2900|\n",
      "|   Easy to clean|           Polyester|Cleo 013-0007 722...|    223.2|Belgium|            Abstract|       25.0|                 N/A|Save 24|       169.08|              Modern|  2900|\n",
      "|   Easy to clean|                Wool|Shensi Navy Tradi...|     55.0|  India|              Floral|       25.0|                 N/A|Save 23|        42.56|Handmade , Tradit...|  2500|\n",
      "|   Easy to clean|                Wool|Asiatic Dotty Nav...|    349.0|  India|              Dotted|      917.0|                 N/A|Save 43|       199.92|              Modern|  NULL|\n",
      "|   Easy to clean|             Acrylic|Think Rugs Polar ...|    49.99|   NULL|               Plain|       60.0|Good selection, p...|Save 31|        34.72|Handmade , Plain ...|  2100|\n",
      "|   Easy to clean|       Polypropylene|Think Rugs Brookl...|    80.99|   NULL|           Geometric|       10.0|Low-maintenance, ...|Save 11|        71.99|   Handmade , Modern|  2000|\n",
      "+----------------+--------------------+--------------------+---------+-------+--------------------+-----------+--------------------+-------+-------------+--------------------+------+\n",
      "only showing top 20 rows\n",
      "\n"
     ]
    }
   ],
   "source": [
    "rug_cleand.show()"
   ]
  },
  {
   "cell_type": "code",
   "execution_count": 19,
   "metadata": {},
   "outputs": [],
   "source": [
    "# Tạo DataFrame 'Rugs' chứa thông tin chi tiết về sản phẩm\n",
    "Rugs = rug_cleand.select(\n",
    "    F.monotonically_increasing_id().alias(\"rug_id\"),\n",
    "    \"Name\",\n",
    "    \"Old_Price\",\n",
    "    \"Special_Price\",\n",
    "    \"Save\",\n",
    "    \"Material\",\n",
    "    \"Cleaning_Process\",\n",
    "    \"Pile_height\",\n",
    "    \"Weight\",\n",
    "    \"Origin\"\n",
    "    \n",
    ").distinct().orderBy(\"rug_id\")\n",
    "\n",
    "# Tạo DataFrame 'Review' chứa đánh giá sản phẩm\n",
    "Review = rug_cleand.select(\n",
    "    F.monotonically_increasing_id().alias(\"rug_id\"),\n",
    "    \"Name\",\n",
    "    \"Product_Reviews\"\n",
    ").distinct().orderBy(\"rug_id\")\n",
    "\n",
    "# Tạo DataFrame 'Type'\n",
    "Type = rug_cleand.select(\n",
    "    F.monotonically_increasing_id().alias(\"rug_id\"),\n",
    "    \"Type\"\n",
    ").distinct().orderBy(\"rug_id\")\n",
    "\n",
    "# Tạo DataFrame 'Material'\n",
    "Material = rug_cleand.select(\n",
    "    F.monotonically_increasing_id().alias(\"rug_id\"),\n",
    "    \"Material\"\n",
    ").distinct().orderBy(\"rug_id\")\n",
    "\n",
    "# Tạo DataFrame 'Pattern'\n",
    "Pattern = rug_cleand.select(\n",
    "    F.monotonically_increasing_id().alias(\"rug_id\"),\n",
    "    \"Pattern\"\n",
    ").distinct().orderBy(\"rug_id\")"
   ]
  },
  {
   "cell_type": "code",
   "execution_count": 20,
   "metadata": {},
   "outputs": [],
   "source": [
    "# Kết nối tới PostgreSQL\n",
    "jdbc_url = \"jdbc:postgresql://localhost:5432/rugs\"  \n",
    "connection_properties = {\n",
    "    \"user\": \"tram2\",        \n",
    "    \"password\": \"1111\",      \n",
    "    \"driver\": \"org.postgresql.Driver\"\n",
    "}\n"
   ]
  },
  {
   "cell_type": "code",
   "execution_count": 21,
   "metadata": {},
   "outputs": [],
   "source": [
    "# 5. Ghi dữ liệu vào bảng 'rug_details' (Thông tin về thảm)\n",
    "Rugs.write.jdbc(\n",
    "    url=jdbc_url,\n",
    "    table=\"rug_details\", \n",
    "    mode=\"overwrite\",  # Ghi đè bảng nếu đã tồn tại, có thể thay bằng 'append' nếu muốn chèn thêm\n",
    "    properties=connection_properties\n",
    ")"
   ]
  },
  {
   "cell_type": "code",
   "execution_count": 22,
   "metadata": {},
   "outputs": [],
   "source": [
    "# 6. Ghi dữ liệu vào bảng 'rug_reviews' (Đánh giá sản phẩm)\n",
    "Review.write.jdbc(\n",
    "    url=jdbc_url,\n",
    "    table=\"rug_reviews\", \n",
    "    mode=\"overwrite\",  # Ghi đè bảng nếu đã tồn tại\n",
    "    properties=connection_properties\n",
    ")"
   ]
  },
  {
   "cell_type": "code",
   "execution_count": 23,
   "metadata": {},
   "outputs": [],
   "source": [
    "# Ghi dữ liệu vào bảng 'type_details'\n",
    "Type.write.jdbc(\n",
    "    url=jdbc_url,\n",
    "    table=\"type_details\", \n",
    "    mode=\"overwrite\",  # Ghi đè bảng nếu đã tồn tại, có thể thay bằng 'append' nếu muốn chèn thêm\n",
    "    properties=connection_properties\n",
    ")\n",
    "\n",
    "# Ghi dữ liệu vào bảng 'material_details'\n",
    "Material.write.jdbc(\n",
    "    url=jdbc_url,\n",
    "    table=\"material_details\", \n",
    "    mode=\"overwrite\",  # Ghi đè bảng nếu đã tồn tại, có thể thay bằng 'append' nếu muốn chèn thêm\n",
    "    properties=connection_properties\n",
    ")\n",
    "\n",
    "# Ghi dữ liệu vào bảng 'pattern_details'\n",
    "Pattern.write.jdbc(\n",
    "    url=jdbc_url,\n",
    "    table=\"pattern_details\", \n",
    "    mode=\"overwrite\",  # Ghi đè bảng nếu đã tồn tại, có thể thay bằng 'append' nếu muốn chèn thêm\n",
    "    properties=connection_properties\n",
    ")\n"
   ]
  },
  {
   "cell_type": "code",
   "execution_count": 24,
   "metadata": {},
   "outputs": [
    {
     "name": "stdout",
     "output_type": "stream",
     "text": [
      "Đã ghi thành công bảng Rugs vào PostgreSQL!\n",
      "Đã ghi thành công bảng Review vào PostgreSQL!\n",
      "Đã ghi thành công bảng Material vào PostgreSQL!\n",
      "Đã ghi thành công bảng Type vào PostgreSQL!\n",
      "Đã ghi thành công bảng Pattern vào PostgreSQL!\n"
     ]
    }
   ],
   "source": [
    "def write_to_postgres(df, table_name):\n",
    "    try:\n",
    "        df.write.jdbc(\n",
    "            url=jdbc_url,\n",
    "            table=table_name,\n",
    "            mode=\"overwrite\",\n",
    "            properties=connection_properties\n",
    "        )\n",
    "        print(f\"Đã ghi thành công bảng {table_name} vào PostgreSQL!\")\n",
    "    except Exception as e:\n",
    "        print(f\"Lỗi khi ghi bảng {table_name} vào PostgreSQL: {e}\")\n",
    "\n",
    "write_to_postgres(Rugs, \"rug_details\")\n",
    "write_to_postgres(Review, \"rug_reviews\")\n",
    "write_to_postgres(Material, \"material_details\")\n",
    "write_to_postgres(Type, \"type_details\")\n",
    "write_to_postgres(Pattern, \"pattern_details\")\n"
   ]
  }
 ],
 "metadata": {
  "kernelspec": {
   "display_name": "Python 3",
   "language": "python",
   "name": "python3"
  },
  "language_info": {
   "codemirror_mode": {
    "name": "ipython",
    "version": 3
   },
   "file_extension": ".py",
   "mimetype": "text/x-python",
   "name": "python",
   "nbconvert_exporter": "python",
   "pygments_lexer": "ipython3",
   "version": "3.10.11"
  }
 },
 "nbformat": 4,
 "nbformat_minor": 2
}
